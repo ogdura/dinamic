{
  "cells": [
    {
      "cell_type": "markdown",
      "source": [
        "**Лабораторная работа 1\n",
        "\n",
        "\n",
        "**"
      ],
      "metadata": {
        "id": "k_fDmGLAbWAm"
      }
    },
    {
      "cell_type": "markdown",
      "source": [
        "Загружаем библиотеки"
      ],
      "metadata": {
        "id": "aIMYrWJDFZgS"
      }
    },
    {
      "cell_type": "code",
      "execution_count": 10,
      "metadata": {
        "id": "KxfzLsVpi8k8"
      },
      "outputs": [],
      "source": [
        "from re import X\n",
        "import pandas as pd\n",
        "from sklearn.neighbors import KNeighborsClassifier\n",
        "from sklearn.metrics import accuracy_score\n",
        "import matplotlib.pyplot as plt\n",
        "from sklearn.model_selection import train_test_split\n",
        "from sklearn.preprocessing import LabelEncoder\n",
        "from sklearn import metrics\n",
        "from sklearn.model_selection import GridSearchCV"
      ]
    },
    {
      "cell_type": "markdown",
      "source": [
        "Загружаем датасет и подготавливаем данные для обучения"
      ],
      "metadata": {
        "id": "EpCIB64ZFenM"
      }
    },
    {
      "cell_type": "code",
      "execution_count": 13,
      "metadata": {
        "id": "tjZdag4yDQKk"
      },
      "outputs": [],
      "source": [
        "df = pd.read_csv(\"fraud.csv\",sep=',')\n",
        "df = df.drop('Unnamed: 0', axis=1)\n",
        "y=df['is_fraud']\n",
        "x=df.drop(columns=[\"is_fraud\",\"first\",\"last\",\"trans_date_trans_time\", \"street\", \"city\", \"state\",\"trans_num\"], axis=1)\n",
        "x['dob']=pd.to_datetime(df['dob'], format='%d/%m/%Y')\n",
        "x['dob']=x['dob'].astype(\"int64\")//10**9\n",
        "encoder = LabelEncoder()\n",
        "x['merchant']=encoder.fit_transform(x['merchant'])\n",
        "x['category']=encoder.fit_transform(x['category'])\n",
        "x['gender']=encoder.fit_transform(x['gender'])\n",
        "x['job']=encoder.fit_transform(x['job'])\n"
      ]
    },
    {
      "cell_type": "markdown",
      "source": [
        "Разделяем данные на обучающиеся и тестируемые"
      ],
      "metadata": {
        "id": "jSaq9KmNFmGa"
      }
    },
    {
      "cell_type": "code",
      "execution_count": 7,
      "metadata": {
        "id": "_PJbb1tcEd2K"
      },
      "outputs": [],
      "source": [
        "x_train, x_test, y_train, y_test = train_test_split(x,y,train_size=0.2,random_state=42)"
      ]
    },
    {
      "cell_type": "markdown",
      "source": [
        "Создаем классификаторы, добавляем словарь с гиперпараметрами, находим оптимальные гиперпараметры, обучаем и предсказываем классы. После этого можно вывести метрики:"
      ],
      "metadata": {
        "id": "sokwlP_HGQec"
      }
    },
    {
      "cell_type": "code",
      "execution_count": 12,
      "metadata": {
        "colab": {
          "base_uri": "https://localhost:8080/"
        },
        "id": "aZ0Ln29lE6sR",
        "outputId": "7b74fd56-d649-46bf-c3dd-8839b4bb5ce2"
      },
      "outputs": [
        {
          "output_type": "stream",
          "name": "stdout",
          "text": [
            "{'metric': 'manhattan', 'n_neighbors': 1}\n",
            "              precision    recall  f1-score   support\n",
            "\n",
            "           0    0.99929   0.99893   0.99911    442833\n",
            "           1    0.75013   0.81985   0.78344      1743\n",
            "\n",
            "    accuracy                        0.99822    444576\n",
            "   macro avg    0.87471   0.90939   0.89128    444576\n",
            "weighted avg    0.99831   0.99822   0.99826    444576\n",
            "\n"
          ]
        }
      ],
      "source": [
        "k_range=range(1,11)\n",
        "knn = KNeighborsClassifier()\n",
        "kn_params={\n",
        "    \"n_neighbors\": k_range,\n",
        "    'metric': ['minkowski','euclidean','manhattan']\n",
        "}\n",
        "kn_grid= GridSearchCV(knn,kn_params,cv=5,n_jobs=1)\n",
        "kn_grid.fit(x_train,y_train)\n",
        "best_params=kn_grid.best_params_\n",
        "knn_best=KNeighborsClassifier(**best_params)\n",
        "knn_best.fit(x_train,y_train)\n",
        "pred=knn_best.predict(x_test)\n",
        "print(best_params)\n",
        "print(metrics.classification_report(y_test,pred,digits=5))"
      ]
    }
  ],
  "metadata": {
    "colab": {
      "provenance": [],
      "mount_file_id": "1xzxVAv7yrNNHqxO48kLT9qpv7J8QXRTh",
      "authorship_tag": "ABX9TyMGIbdNo5kxG3LCU3DUAIqn"
    },
    "kernelspec": {
      "display_name": "Python 3",
      "name": "python3"
    },
    "language_info": {
      "name": "python"
    }
  },
  "nbformat": 4,
  "nbformat_minor": 0
}