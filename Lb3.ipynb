{
  "nbformat": 4,
  "nbformat_minor": 0,
  "metadata": {
    "colab": {
      "provenance": [],
      "authorship_tag": "ABX9TyOqoOrW0UhTp7Kdk1XjAFV9"
    },
    "kernelspec": {
      "name": "python3",
      "display_name": "Python 3"
    },
    "language_info": {
      "name": "python"
    }
  },
  "cells": [
    {
      "cell_type": "markdown",
      "source": [
        "<H1> Лбораторная работа 3</h2>\n"
      ],
      "metadata": {
        "id": "AdO1xLzsgSvg"
      }
    },
    {
      "cell_type": "markdown",
      "source": [
        "Загружаем библиотеки"
      ],
      "metadata": {
        "id": "_W0UWtOGDQHB"
      }
    },
    {
      "cell_type": "code",
      "execution_count": 3,
      "metadata": {
        "id": "tnAd3eKgUVkl"
      },
      "outputs": [],
      "source": [
        "import pandas as pd\n",
        "from sklearn.model_selection import train_test_split\n",
        "from sklearn.preprocessing import LabelEncoder\n",
        "from sklearn import metrics\n",
        "from sklearn.model_selection import GridSearchCV\n",
        "from sklearn.linear_model import LinearRegression\n",
        "from sklearn.linear_model import LogisticRegression\n",
        "from sklearn.preprocessing import StandardScaler, OneHotEncoder\n",
        "from sklearn.compose import ColumnTransformer\n",
        "from sklearn.pipeline import Pipeline"
      ]
    },
    {
      "cell_type": "markdown",
      "source": [
        "Подготавливаем данные: определяем признаки и таргет, разделяем признаки на категориальные и численные и приобразуем их для обучения\n"
      ],
      "metadata": {
        "id": "m5MOsNodghH3"
      }
    },
    {
      "cell_type": "code",
      "source": [
        "df = pd.read_csv(\"fraud.csv\",sep=',')\n",
        "\n",
        "features = ['trans_date_trans_time', 'amt', 'category', 'merchant', 'city', 'state', 'job', 'lat', 'long', 'merch_lat', 'merch_long', 'city_pop', 'cc_num', 'gender']\n",
        "target = 'is_fraud'\n",
        "\n",
        "fraud=df[df[target]==1]\n",
        "not_fraud=df[df[target]==0]\n",
        "not_fraud_down_sample=not_fraud.sample(n=15000)\n",
        "under=pd.concat([fraud,not_fraud_down_sample])\n",
        "\n",
        "x = under[features]\n",
        "y = under[target]\n",
        "\n",
        "x['hour']=pd.to_datetime(x['trans_date_trans_time'],dayfirst=True).dt.hour\n",
        "x=x.drop(['trans_date_trans_time'],axis=1)\n",
        "categorical_features = ['category', 'merchant', 'city', 'state', 'job', 'gender']\n",
        "numeric_features = ['amt', 'lat', 'long', 'merch_lat', 'merch_long', 'city_pop', 'cc_num', 'hour']\n",
        "\n",
        "categorical_transformer = OneHotEncoder(handle_unknown='ignore')\n",
        "\n",
        "numeric_transformer = StandardScaler()\n",
        "\n",
        "preprocessor = ColumnTransformer(\n",
        "    transformers=[\n",
        "        ('num', numeric_transformer, numeric_features),\n",
        "        ('cat', categorical_transformer, categorical_features)\n",
        "    ])\n",
        "x = preprocessor.fit_transform(x)"
      ],
      "metadata": {
        "id": "Yi57cWbjUbND",
        "collapsed": true
      },
      "execution_count": null,
      "outputs": []
    },
    {
      "cell_type": "code",
      "source": [
        "x_train, x_test, y_train, y_test = train_test_split(x,y,train_size=0.2)"
      ],
      "metadata": {
        "id": "gmVIfW0EUbyC"
      },
      "execution_count": 11,
      "outputs": []
    },
    {
      "cell_type": "markdown",
      "source": [
        "Создадим модель линейной регрессии для прогнозирования и обучим ее"
      ],
      "metadata": {
        "id": "chGau1kbnzYN"
      }
    },
    {
      "cell_type": "code",
      "source": [
        "model = LinearRegression()\n",
        "model.fit(x_train, y_train)"
      ],
      "metadata": {
        "id": "DQj6MauJUfbd",
        "collapsed": true
      },
      "execution_count": null,
      "outputs": []
    },
    {
      "cell_type": "markdown",
      "source": [
        "Применим модель логистической регрессии для прогнозирования и оценим ее качество"
      ],
      "metadata": {
        "id": "ZQGUqjrboCgl"
      }
    },
    {
      "cell_type": "code",
      "source": [
        "predictions = model.predict(x_test)\n",
        "binary=[1 if pred>=0.5 else 0 for pred in predictions]\n",
        "print(metrics.classification_report(y_test,binary,digits=5))"
      ],
      "metadata": {
        "colab": {
          "base_uri": "https://localhost:8080/"
        },
        "id": "mCUfXHOWoFf2",
        "outputId": "f4af5ea2-00b5-41d6-da0a-ca79b40c811b"
      },
      "execution_count": 13,
      "outputs": [
        {
          "output_type": "stream",
          "name": "stdout",
          "text": [
            "              precision    recall  f1-score   support\n",
            "\n",
            "           0    0.94731   0.96200   0.95460     11999\n",
            "           1    0.70216   0.62609   0.66195      1717\n",
            "\n",
            "    accuracy                        0.91995     13716\n",
            "   macro avg    0.82473   0.79404   0.80827     13716\n",
            "weighted avg    0.91662   0.91995   0.91796     13716\n",
            "\n"
          ]
        }
      ]
    },
    {
      "cell_type": "markdown",
      "source": [],
      "metadata": {
        "id": "BH4V5jy6hB8y"
      }
    },
    {
      "cell_type": "code",
      "source": [
        "model = LogisticRegression(max_iter=1000)\n",
        "model.fit(x_train, y_train)\n",
        "pred=model.predict(x_test)\n",
        "print(metrics.classification_report(y_test,pred,digits=5))"
      ],
      "metadata": {
        "colab": {
          "base_uri": "https://localhost:8080/"
        },
        "id": "cjRJFwnDMjVm",
        "outputId": "e770f7b0-17fd-4bcb-badd-315090ccafa5"
      },
      "execution_count": 14,
      "outputs": [
        {
          "output_type": "stream",
          "name": "stdout",
          "text": [
            "              precision    recall  f1-score   support\n",
            "\n",
            "           0    0.95011   0.99033   0.96980     11999\n",
            "           1    0.90405   0.63658   0.74710      1717\n",
            "\n",
            "    accuracy                        0.94605     13716\n",
            "   macro avg    0.92708   0.81345   0.85845     13716\n",
            "weighted avg    0.94434   0.94605   0.94192     13716\n",
            "\n"
          ]
        }
      ]
    }
  ]
}