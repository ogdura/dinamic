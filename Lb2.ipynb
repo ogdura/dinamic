{
  "nbformat": 4,
  "nbformat_minor": 0,
  "metadata": {
    "colab": {
      "provenance": [],
      "authorship_tag": "ABX9TyNpL5mtb5oouowSPzgFZoJ1"
    },
    "kernelspec": {
      "name": "python3",
      "display_name": "Python 3"
    },
    "language_info": {
      "name": "python"
    }
  },
  "cells": [
    {
      "cell_type": "markdown",
      "source": [
        "Загружаем библиотеки"
      ],
      "metadata": {
        "id": "SvpVykxbe-SY"
      }
    },
    {
      "cell_type": "code",
      "execution_count": 9,
      "metadata": {
        "id": "FwQ_JAozTedb"
      },
      "outputs": [],
      "source": [
        "import pandas as pd\n",
        "from sklearn.model_selection import train_test_split\n",
        "from sklearn.preprocessing import LabelEncoder\n",
        "from sklearn import metrics\n",
        "from sklearn.model_selection import GridSearchCV\n",
        "from sklearn.svm import SVC\n",
        "from sklearn.preprocessing import StandardScaler, OneHotEncoder\n",
        "from sklearn.compose import ColumnTransformer\n",
        "from sklearn.pipeline import Pipeline"
      ]
    },
    {
      "cell_type": "markdown",
      "source": [
        "Подготавливаем данные для обучения: балансируем количество легальных и мошеннических транзакци, определяем таргет и оставляем поля, которые имеют важную информацию для классификации информацию"
      ],
      "metadata": {
        "id": "hCrFtZO-fBHr"
      }
    },
    {
      "cell_type": "code",
      "source": [
        "df = pd.read_csv(\"fraud.csv\",sep=',')\n",
        "\n",
        "features = ['trans_date_trans_time', 'amt', 'category', 'merchant', 'city', 'state', 'job', 'lat', 'long', 'merch_lat', 'merch_long', 'city_pop', 'cc_num', 'gender']\n",
        "target = 'is_fraud'\n",
        "\n",
        "fraud=df[df[target]==1]\n",
        "not_fraud=df[df[target]==0]\n",
        "not_fraud_down_sample=not_fraud.sample(n=20000)\n",
        "under=pd.concat([fraud,not_fraud_down_sample])\n",
        "\n",
        "x = under[features]\n",
        "y = under[target]\n",
        "\n",
        "x['hour']=pd.to_datetime(x['trans_date_trans_time'],dayfirst=True).dt.hour\n",
        "x=x.drop(['trans_date_trans_time'],axis=1)\n",
        "categorical_features = ['category', 'merchant', 'city', 'state', 'job', 'gender']\n",
        "numeric_features = ['amt', 'lat', 'long', 'merch_lat', 'merch_long', 'city_pop', 'cc_num', 'hour']\n",
        "\n",
        "categorical_transformer = OneHotEncoder(handle_unknown='ignore')\n",
        "\n",
        "numeric_transformer = StandardScaler()\n",
        "\n",
        "preprocessor = ColumnTransformer(\n",
        "    transformers=[\n",
        "        ('num', numeric_transformer, numeric_features),\n",
        "        ('cat', categorical_transformer, categorical_features)\n",
        "    ])\n",
        "x = preprocessor.fit_transform(x)"
      ],
      "metadata": {
        "id": "96r2CDGeV0VL"
      },
      "execution_count": null,
      "outputs": []
    },
    {
      "cell_type": "markdown",
      "source": [
        "Разделяем данные на обучающиеся и тестируемые"
      ],
      "metadata": {
        "id": "GjWPqmnpV2UG"
      }
    },
    {
      "cell_type": "code",
      "source": [
        "x_train, x_test, y_train, y_test = train_test_split(x,y,train_size=0.2)"
      ],
      "metadata": {
        "id": "ATEdkdwEV4O_"
      },
      "execution_count": 32,
      "outputs": []
    },
    {
      "cell_type": "markdown",
      "source": [
        "Определяем гиперпараметры: строгость границы, чувствительность к обучающим примерам, ядро. Затем можно вывести качество предсказаний"
      ],
      "metadata": {
        "id": "gELlR-AvfHA0"
      }
    },
    {
      "cell_type": "code",
      "source": [
        "c=SVC()\n",
        "c_param_grid = {\n",
        "    'C': [0.1, 1, 10, 100],\n",
        "    'gamma': ['scale', 'auto', 0.01, 0.1, 1, 10],\n",
        "    'kernel': ['rbf', 'linear', 'sigmoid']\n",
        "}\n",
        "c_grid=GridSearchCV(c,c_param_grid, cv=5 ,n_jobs=-1, verbose=3)\n",
        "c_grid.fit(x_train,y_train)"
      ],
      "metadata": {
        "id": "vUPq4ancV7BV"
      },
      "execution_count": null,
      "outputs": []
    },
    {
      "cell_type": "code",
      "source": [
        "best_params=c_grid.best_params_\n",
        "c_best=SVC(**best_params)\n",
        "c_best.fit(x_train,y_train)\n",
        "pred=c_best.predict(x_test)\n",
        "print(best_params)\n",
        "print(metrics.classification_report(y_test,pred,digits=5))"
      ],
      "metadata": {
        "colab": {
          "base_uri": "https://localhost:8080/"
        },
        "id": "Bmi2CJXAIkXp",
        "outputId": "49ee3029-dfd1-47e0-bd12-2dfad07510a8"
      },
      "execution_count": 36,
      "outputs": [
        {
          "output_type": "stream",
          "name": "stdout",
          "text": [
            "{'C': 10, 'gamma': 0.1, 'kernel': 'rbf'}\n",
            "              precision    recall  f1-score   support\n",
            "\n",
            "           0    0.97096   0.98699   0.97891     15990\n",
            "           1    0.85773   0.72654   0.78670      1726\n",
            "\n",
            "    accuracy                        0.96162     17716\n",
            "   macro avg    0.91435   0.85676   0.88281     17716\n",
            "weighted avg    0.95993   0.96162   0.96018     17716\n",
            "\n"
          ]
        }
      ]
    }
  ]
}