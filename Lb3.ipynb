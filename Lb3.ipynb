{
  "nbformat": 4,
  "nbformat_minor": 0,
  "metadata": {
    "colab": {
      "provenance": [],
      "authorship_tag": "ABX9TyPg00m9uz+Q/u5NhXrDIZhT"
    },
    "kernelspec": {
      "name": "python3",
      "display_name": "Python 3"
    },
    "language_info": {
      "name": "python"
    }
  },
  "cells": [
    {
      "cell_type": "markdown",
      "source": [
        "<H1> Лбораторная работа 3</h2>\n"
      ],
      "metadata": {
        "id": "AdO1xLzsgSvg"
      }
    },
    {
      "cell_type": "markdown",
      "source": [
        "Загружаем библиотеки"
      ],
      "metadata": {
        "id": "_W0UWtOGDQHB"
      }
    },
    {
      "cell_type": "code",
      "execution_count": 11,
      "metadata": {
        "id": "tnAd3eKgUVkl"
      },
      "outputs": [],
      "source": [
        "import pandas as pd\n",
        "from sklearn.model_selection import train_test_split\n",
        "from sklearn.preprocessing import LabelEncoder\n",
        "from sklearn import metrics\n",
        "from sklearn.model_selection import GridSearchCV\n",
        "from sklearn.linear_model import LinearRegression\n",
        "from sklearn.linear_model import LogisticRegression\n",
        "from sklearn.preprocessing import StandardScaler, OneHotEncoder\n",
        "from sklearn.compose import ColumnTransformer\n",
        "from sklearn.pipeline import Pipeline"
      ]
    },
    {
      "cell_type": "markdown",
      "source": [
        "Подготавливаем данные: определяем признаки и таргет, разделяем признаки на категориальные и численные и приобразуем их для обучения\n"
      ],
      "metadata": {
        "id": "m5MOsNodghH3"
      }
    },
    {
      "cell_type": "code",
      "source": [
        "df = pd.read_csv(\"fraud.csv\",sep=',')\n",
        "\n",
        "features = ['trans_date_trans_time', 'amt', 'category', 'merchant', 'city', 'state', 'job', 'lat', 'long', 'merch_lat', 'merch_long', 'city_pop', 'cc_num', 'gender']\n",
        "target = 'is_fraud'\n",
        "\n",
        "x = df[features]\n",
        "y = df[target]\n",
        "\n",
        "x['hour']=pd.to_datetime(x['trans_date_trans_time'],dayfirst=True).dt.hour\n",
        "x=x.drop(['trans_date_trans_time'],axis=1)\n",
        "categorical_features = ['category', 'merchant', 'city', 'state', 'job', 'gender']\n",
        "numeric_features = ['amt', 'lat', 'long', 'merch_lat', 'merch_long', 'city_pop', 'cc_num', 'hour']\n",
        "\n",
        "categorical_transformer = OneHotEncoder(handle_unknown='ignore')\n",
        "\n",
        "numeric_transformer = StandardScaler()\n",
        "\n",
        "preprocessor = ColumnTransformer(\n",
        "    transformers=[\n",
        "        ('num', numeric_transformer, numeric_features),\n",
        "        ('cat', categorical_transformer, categorical_features)\n",
        "    ])\n",
        "\n",
        "x = preprocessor.fit_transform(x)\n"
      ],
      "metadata": {
        "id": "Yi57cWbjUbND"
      },
      "execution_count": null,
      "outputs": []
    },
    {
      "cell_type": "code",
      "source": [
        "x_train, x_test, y_train, y_test = train_test_split(x,y,train_size=0.2)"
      ],
      "metadata": {
        "id": "gmVIfW0EUbyC"
      },
      "execution_count": 13,
      "outputs": []
    },
    {
      "cell_type": "markdown",
      "source": [
        "Создадим модель линейной регрессии для прогнозирования и обучим ее"
      ],
      "metadata": {
        "id": "chGau1kbnzYN"
      }
    },
    {
      "cell_type": "code",
      "source": [
        "model = LinearRegression()\n",
        "model.fit(x_train, y_train)"
      ],
      "metadata": {
        "id": "DQj6MauJUfbd"
      },
      "execution_count": null,
      "outputs": []
    },
    {
      "cell_type": "markdown",
      "source": [
        "Применим модель логистической регрессии для прогнозирования и оценим ее качество"
      ],
      "metadata": {
        "id": "ZQGUqjrboCgl"
      }
    },
    {
      "cell_type": "code",
      "source": [
        "predictions = model.predict(x_test)\n",
        "binary=[1 if pred>=0.5 else 0 for pred in predictions]\n",
        "print(metrics.classification_report(y_test,binary,digits=5))"
      ],
      "metadata": {
        "colab": {
          "base_uri": "https://localhost:8080/"
        },
        "id": "mCUfXHOWoFf2",
        "outputId": "fc2315e6-50d0-44a5-cc3d-303f5cda18a2"
      },
      "execution_count": 15,
      "outputs": [
        {
          "output_type": "stream",
          "name": "stdout",
          "text": [
            "              precision    recall  f1-score   support\n",
            "\n",
            "           0    0.99648   0.99994   0.99820    442888\n",
            "           1    0.81457   0.07287   0.13377      1688\n",
            "\n",
            "    accuracy                        0.99642    444576\n",
            "   macro avg    0.90552   0.53640   0.56599    444576\n",
            "weighted avg    0.99579   0.99642   0.99492    444576\n",
            "\n"
          ]
        }
      ]
    },
    {
      "cell_type": "markdown",
      "source": [],
      "metadata": {
        "id": "BH4V5jy6hB8y"
      }
    },
    {
      "cell_type": "code",
      "source": [
        "model = LogisticRegression(max_iter=1000)\n",
        "model.fit(x_train, y_train)\n",
        "pred=model.predict(x_test)\n",
        "print(metrics.classification_report(y_test,pred,digits=5))"
      ],
      "metadata": {
        "colab": {
          "base_uri": "https://localhost:8080/"
        },
        "id": "cjRJFwnDMjVm",
        "outputId": "0abea688-bd91-452a-d6e3-a808a36e9b31"
      },
      "execution_count": 18,
      "outputs": [
        {
          "output_type": "stream",
          "name": "stdout",
          "text": [
            "              precision    recall  f1-score   support\n",
            "\n",
            "           0    0.99645   0.99967   0.99806    442888\n",
            "           1    0.43137   0.06517   0.11323      1688\n",
            "\n",
            "    accuracy                        0.99612    444576\n",
            "   macro avg    0.71391   0.53242   0.55564    444576\n",
            "weighted avg    0.99430   0.99612   0.99470    444576\n",
            "\n"
          ]
        }
      ]
    }
  ]
}