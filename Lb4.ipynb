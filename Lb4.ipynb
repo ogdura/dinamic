{
  "cells": [
    {
      "cell_type": "markdown",
      "metadata": {
        "id": "view-in-github",
        "colab_type": "text"
      },
      "source": [
        "<a href=\"https://colab.research.google.com/github/ogdura/dinamic/blob/main/Lb4.ipynb\" target=\"_parent\"><img src=\"https://colab.research.google.com/assets/colab-badge.svg\" alt=\"Open In Colab\"/></a>"
      ]
    },
    {
      "cell_type": "code",
      "execution_count": null,
      "metadata": {
        "id": "TaTbqRJnc1fP"
      },
      "outputs": [],
      "source": []
    },
    {
      "cell_type": "markdown",
      "metadata": {
        "id": "AdO1xLzsgSvg"
      },
      "source": [
        "<H1> Лбораторная работа 4</h2>\n"
      ]
    },
    {
      "cell_type": "markdown",
      "metadata": {
        "id": "_W0UWtOGDQHB"
      },
      "source": [
        "Загружаем библиотеки"
      ]
    },
    {
      "cell_type": "code",
      "execution_count": 37,
      "metadata": {
        "id": "tnAd3eKgUVkl"
      },
      "outputs": [],
      "source": [
        "import pandas as pd\n",
        "import numpy as np\n",
        "from sklearn.model_selection import train_test_split\n",
        "import sklearn.naive_bayes\n",
        "from sklearn import metrics\n",
        "from sklearn.model_selection import GridSearchCV\n",
        "from sklearn.preprocessing import StandardScaler, OneHotEncoder, MinMaxScaler, LabelEncoder\n",
        "from sklearn.compose import ColumnTransformer\n",
        "from sklearn.pipeline import Pipeline\n",
        "from imblearn.over_sampling import SMOTE"
      ]
    },
    {
      "cell_type": "markdown",
      "metadata": {
        "id": "m5MOsNodghH3"
      },
      "source": [
        "Подготавливаем данные: определяем признаки и таргет, разделяем признаки на категориальные и численные и приобразуем их для обучения\n"
      ]
    },
    {
      "cell_type": "code",
      "execution_count": 34,
      "metadata": {
        "colab": {
          "base_uri": "https://localhost:8080/"
        },
        "collapsed": true,
        "id": "Yi57cWbjUbND",
        "outputId": "0fe49dcb-8d0e-4cf6-8d73-3acf2ca56913"
      },
      "outputs": [
        {
          "output_type": "stream",
          "name": "stdout",
          "text": [
            "False\n"
          ]
        },
        {
          "output_type": "stream",
          "name": "stderr",
          "text": [
            "<ipython-input-34-f715a8ecf2da>:17: SettingWithCopyWarning: \n",
            "A value is trying to be set on a copy of a slice from a DataFrame.\n",
            "Try using .loc[row_indexer,col_indexer] = value instead\n",
            "\n",
            "See the caveats in the documentation: https://pandas.pydata.org/pandas-docs/stable/user_guide/indexing.html#returning-a-view-versus-a-copy\n",
            "  x['hour']=pd.to_datetime(x['trans_date_trans_time'],dayfirst=True).dt.hour\n"
          ]
        }
      ],
      "source": [
        "df = pd.read_csv(\"fraud.csv\",sep=',')\n",
        "\n",
        "features = ['trans_date_trans_time', 'amt', 'category', 'merchant', 'city', 'state', 'job', 'lat', 'long', 'merch_lat', 'merch_long', 'city_pop', 'cc_num', 'gender']\n",
        "target = 'is_fraud'\n",
        "\n",
        "fraud=df[df[target]==1]\n",
        "not_fraud=df[df[target]==0]\n",
        "not_fraud_down_sample=not_fraud.sample(n=11000)\n",
        "under=pd.concat([fraud,not_fraud_down_sample])\n",
        "\n",
        "x = under[features]\n",
        "y = under[target]\n",
        "\n",
        "print((x['amt']<0).any())\n",
        "\n",
        "\n",
        "x['hour']=pd.to_datetime(x['trans_date_trans_time'],dayfirst=True).dt.hour\n",
        "x=x.drop(['trans_date_trans_time'],axis=1)\n",
        "categorical_features = ['category', 'merchant', 'city', 'state', 'job', 'gender']\n",
        "numeric_features = ['amt', 'lat', 'long', 'merch_lat', 'merch_long', 'city_pop', 'cc_num', 'hour']\n",
        "\n",
        "# Преобразование координат (сдвиг значений, чтобы все были неотрицательными)\n",
        "x['lat'] = x['lat'] - x['lat'].min()\n",
        "x['long'] = x['long'] - x['long'].min()\n",
        "x['merch_lat'] = x['merch_lat'] - x['merch_lat'].min()\n",
        "x['merch_long'] = x['merch_long'] - x['merch_long'].min()\n",
        "categorical_transformer = OneHotEncoder(handle_unknown='ignore')\n",
        "\n",
        "numeric_transformer = MinMaxScaler()\n",
        "\n",
        "preprocessor = ColumnTransformer(\n",
        "    transformers=[\n",
        "        ('num', numeric_transformer, numeric_features),\n",
        "        ('cat', categorical_transformer, categorical_features)\n",
        "    ])\n",
        "\n",
        "\n",
        "x = preprocessor.fit_transform(x)"
      ]
    },
    {
      "cell_type": "code",
      "execution_count": 44,
      "metadata": {
        "id": "gmVIfW0EUbyC"
      },
      "outputs": [],
      "source": [
        "#smote=SMOTE()\n",
        "#x,y=smote.fit_resample(x,y)\n",
        "x_train, x_test, y_train, y_test = train_test_split(x,y,train_size=0.2)\n",
        "x_train=x_train.toarray()\n",
        "x_test=x_test.toarray()"
      ]
    },
    {
      "cell_type": "markdown",
      "metadata": {
        "id": "0h498MKldB7Y"
      },
      "source": [
        "<h2>Гауссовский наивный Байес</h2>\n",
        "Найдём лучшие гиперпараметры, для этого используем GridSearchCV, куда передадим диапазон возможных значений. Будем искать оптимальное значение гиперпараметра \"var_smoothing\", который отвечает за сглаживание получаемых значений."
      ]
    },
    {
      "cell_type": "code",
      "execution_count": null,
      "metadata": {
        "colab": {
          "base_uri": "https://localhost:8080/"
        },
        "id": "XddKqznQc_q-",
        "outputId": "e3ee7a07-7ef1-4b74-8aff-ccd141b8f440"
      },
      "outputs": [
        {
          "name": "stdout",
          "output_type": "stream",
          "text": [
            "Fitting 2 folds for each of 100 candidates, totalling 200 fits\n"
          ]
        }
      ],
      "source": [
        "gaussian_classifier = sklearn.naive_bayes.GaussianNB()\n",
        "gaussian_params ={\n",
        "    'var_smoothing': np.geomspace(1e-10,1e10,num=100)\n",
        "}\n",
        "gaussian_grid = GridSearchCV(gaussian_classifier, gaussian_params, cv=2, n_jobs=-1,verbose=3)\n",
        "gaussian_grid.fit(x_train, y_train)\n",
        "best_gaussian_params = gaussian_grid.best_params_"
      ]
    },
    {
      "cell_type": "markdown",
      "metadata": {
        "id": "iGJXbCNbehWs"
      },
      "source": [
        "После того, как были найдены оптимальные гиперпараметры, можно вывести различные метрики, такие как точность, полнота, f-мера и поддержка."
      ]
    },
    {
      "cell_type": "code",
      "execution_count": null,
      "metadata": {
        "colab": {
          "base_uri": "https://localhost:8080/"
        },
        "id": "WFEQYpyQejcS",
        "outputId": "8db262e2-2b19-4233-f9df-dadeef62242f"
      },
      "outputs": [
        {
          "name": "stdout",
          "output_type": "stream",
          "text": [
            "{'var_smoothing': 0.12328467394420634}\n",
            "              precision    recall  f1-score   support\n",
            "\n",
            "           0    0.95361   0.98533   0.96921     11997\n",
            "           1    0.86667   0.66550   0.75288      1719\n",
            "\n",
            "    accuracy                        0.94525     13716\n",
            "   macro avg    0.91014   0.82542   0.86105     13716\n",
            "weighted avg    0.94272   0.94525   0.94210     13716\n",
            "\n"
          ]
        }
      ],
      "source": [
        "best_gaussian_model = sklearn.naive_bayes.GaussianNB(**best_gaussian_params)\n",
        "best_gaussian_model.fit(x_train, y_train)\n",
        "gaussian_predicted = best_gaussian_model.predict(x_test)\n",
        "print(best_gaussian_params)\n",
        "print(metrics.classification_report(y_test, gaussian_predicted,digits=5))"
      ]
    },
    {
      "cell_type": "markdown",
      "metadata": {
        "id": "xKSvWePee4zy"
      },
      "source": [
        "# <h2> Мультиномиальный наивный Байес </h2>\n",
        "Найдём лучшие гиперпараметры, для этого используем GridSearchCV, куда передадим диапазон возможных значений. Будем искать оптимальное значение гиперпараметра \"alpha\", который отвечает за сглаживание получаемых значений."
      ]
    },
    {
      "cell_type": "code",
      "execution_count": 35,
      "metadata": {
        "colab": {
          "base_uri": "https://localhost:8080/"
        },
        "id": "R55sEh6Ve-Ak",
        "outputId": "4dc28f9d-d812-4d4d-ccaf-85ea3ec86e98"
      },
      "outputs": [
        {
          "output_type": "stream",
          "name": "stdout",
          "text": [
            "Fitting 2 folds for each of 100 candidates, totalling 200 fits\n"
          ]
        }
      ],
      "source": [
        "classifier = sklearn.naive_bayes.MultinomialNB()\n",
        "params ={\n",
        "    'alpha': np.geomspace(1e-100,1e100,num=100)\n",
        "}\n",
        "grid = GridSearchCV(classifier, params, cv=2, n_jobs=-1,verbose=3)\n",
        "grid.fit(x_train, y_train)\n",
        "best_params = grid.best_params_"
      ]
    },
    {
      "cell_type": "markdown",
      "metadata": {
        "id": "1Jv3f_T8fLaZ"
      },
      "source": [
        "После того, как были найдены оптимальные гиперпараметры, можно вывести различные метрики, такие как точность, полнота, f-мера и поддержка."
      ]
    },
    {
      "cell_type": "code",
      "execution_count": 45,
      "metadata": {
        "id": "FT4d0TxFfN9o",
        "colab": {
          "base_uri": "https://localhost:8080/"
        },
        "outputId": "b1a63b26-15d9-454c-b0ad-2c345b7f4ffc"
      },
      "outputs": [
        {
          "output_type": "stream",
          "name": "stdout",
          "text": [
            "{'alpha': 10.235310218990268}\n",
            "              precision    recall  f1-score   support\n",
            "\n",
            "           0    0.84152   0.72540   0.77916      8740\n",
            "           1    0.76157   0.86524   0.81010      8860\n",
            "\n",
            "    accuracy                        0.79580     17600\n",
            "   macro avg    0.80155   0.79532   0.79463     17600\n",
            "weighted avg    0.80127   0.79580   0.79474     17600\n",
            "\n"
          ]
        }
      ],
      "source": [
        "best_model = sklearn.naive_bayes.MultinomialNB(**best_params)\n",
        "best_model.fit(x_train, y_train)\n",
        "predicted = best_model.predict(x_test)\n",
        "print(best_params)\n",
        "print(metrics.classification_report(y_test, predicted,digits=5))"
      ]
    },
    {
      "cell_type": "markdown",
      "metadata": {
        "id": "NyrwC70DfQAR"
      },
      "source": [
        "<h2>Комплементарный наивный Байес</h2>\n",
        "Найдём лучшие гиперпараметры, для этого используем GridSearchCV, куда передадим диапазон возможных значений. Будем искать оптимальное значение гиперпараметра \"alpha\", который отвечает за сглаживание получаемых значений."
      ]
    },
    {
      "cell_type": "code",
      "execution_count": 46,
      "metadata": {
        "id": "5qGCAIkkfWWc",
        "colab": {
          "base_uri": "https://localhost:8080/"
        },
        "outputId": "71e1f630-ffed-4efe-f608-5eb87af0253b"
      },
      "outputs": [
        {
          "output_type": "stream",
          "name": "stdout",
          "text": [
            "Fitting 2 folds for each of 100 candidates, totalling 200 fits\n"
          ]
        }
      ],
      "source": [
        "classifier = sklearn.naive_bayes.ComplementNB()\n",
        "params ={\n",
        "    'alpha': np.geomspace(1e-10,1e10,num=100)\n",
        "}\n",
        "grid = GridSearchCV(classifier, params, cv=2, n_jobs=-1,verbose=3)\n",
        "grid.fit(x_train, y_train)\n",
        "best_params = grid.best_params_"
      ]
    },
    {
      "cell_type": "markdown",
      "metadata": {
        "id": "n1KpdgYafZHe"
      },
      "source": [
        "После того, как были найдены оптимальные гиперпараметры, можно вывести различные метрики, такие как точность, полнота, f-мера и поддержка."
      ]
    },
    {
      "cell_type": "code",
      "execution_count": 47,
      "metadata": {
        "id": "LOgZsW47fbgz",
        "colab": {
          "base_uri": "https://localhost:8080/"
        },
        "outputId": "c8d5edad-3165-48d3-acae-f236bf710cfe"
      },
      "outputs": [
        {
          "output_type": "stream",
          "name": "stdout",
          "text": [
            "{'alpha': 0.007564633275546291}\n",
            "              precision    recall  f1-score   support\n",
            "\n",
            "           0    0.91237   0.84222   0.87589      8740\n",
            "           1    0.85533   0.92020   0.88658      8860\n",
            "\n",
            "    accuracy                        0.88148     17600\n",
            "   macro avg    0.88385   0.88121   0.88124     17600\n",
            "weighted avg    0.88366   0.88148   0.88127     17600\n",
            "\n"
          ]
        }
      ],
      "source": [
        "best_model = sklearn.naive_bayes.ComplementNB(**best_params)\n",
        "best_model.fit(x_train, y_train)\n",
        "predicted = best_model.predict(x_test)\n",
        "print(best_params)\n",
        "print(metrics.classification_report(y_test, predicted,digits=5))"
      ]
    },
    {
      "cell_type": "markdown",
      "metadata": {
        "id": "Jg5xFBH_fh3H"
      },
      "source": [
        "<h2>Бернуллиевский наивный Байес</h2>\n",
        "Найдём лучшие гиперпараметры, для этого используем GridSearchCV, куда передадим диапазон возможных значений. Будем искать оптимальное значение гиперпараметра \"alpha\", который отвечает за сглаживание получаемых значений."
      ]
    },
    {
      "cell_type": "code",
      "execution_count": 48,
      "metadata": {
        "id": "gQJx_vr1fnTH",
        "colab": {
          "base_uri": "https://localhost:8080/"
        },
        "outputId": "0d22698d-24f6-429a-fca9-a0a71ea24684"
      },
      "outputs": [
        {
          "output_type": "stream",
          "name": "stdout",
          "text": [
            "Fitting 2 folds for each of 100 candidates, totalling 200 fits\n"
          ]
        }
      ],
      "source": [
        "classifier = sklearn.naive_bayes.BernoulliNB()\n",
        "params ={\n",
        "    'alpha': np.geomspace(1e-10,1e10,num=100)\n",
        "}\n",
        "grid = GridSearchCV(classifier, params, cv=2, n_jobs=-1,verbose=3)\n",
        "grid.fit(x_train, y_train)\n",
        "best_params = grid.best_params_"
      ]
    },
    {
      "cell_type": "markdown",
      "metadata": {
        "id": "IwnB9jEcfp2i"
      },
      "source": [
        "После того, как были найдены оптимальные гиперпараметры, можно вывести различные метрики, такие как точность, полнота, f-мера и поддержка."
      ]
    },
    {
      "cell_type": "code",
      "execution_count": 50,
      "metadata": {
        "id": "6AvPz3WlfrUo",
        "colab": {
          "base_uri": "https://localhost:8080/"
        },
        "outputId": "854b5d4d-acb0-4310-ae61-7c4b470a8b9b"
      },
      "outputs": [
        {
          "output_type": "stream",
          "name": "stdout",
          "text": [
            "{'alpha': 0.019179102616724848}\n",
            "              precision    recall  f1-score   support\n",
            "\n",
            "           0    0.90807   0.85217   0.87924      8740\n",
            "           1    0.86252   0.91490   0.88794      8860\n",
            "\n",
            "    accuracy                        0.88375     17600\n",
            "   macro avg    0.88530   0.88354   0.88359     17600\n",
            "weighted avg    0.88514   0.88375   0.88362     17600\n",
            "\n"
          ]
        }
      ],
      "source": [
        "best_model = sklearn.naive_bayes.BernoulliNB(**best_params)\n",
        "best_model.fit(x_train, y_train)\n",
        "predicted = best_model.predict(x_test)\n",
        "print(best_params)\n",
        "print(metrics.classification_report(y_test, predicted,digits=5))"
      ]
    },
    {
      "cell_type": "markdown",
      "source": [
        "<h3> Категориальный наивный Байес </h3>Найдём лучшие гиперпараметры, для этого используем GridSearchCV, куда передадим диапазон возможных значений. Будем искать оптимальное значение гиперпараметра \"alpha\", который отвечает за сглаживание получаемых значений."
      ],
      "metadata": {
        "id": "00VDxUHzIvXg"
      }
    },
    {
      "cell_type": "code",
      "source": [
        "classifier = sklearn.naive_bayes.CategoricalNB()\n",
        "params ={\n",
        "    'alpha': np.geomspace(1e-10,1e10,num=100),\n",
        "    'min_categories':[2]\n",
        "}\n",
        "grid = GridSearchCV(classifier, params, cv=2, n_jobs=-1,verbose=3)\n",
        "grid.fit(x_train, y_train)\n",
        "best_params = grid.best_params_"
      ],
      "metadata": {
        "colab": {
          "base_uri": "https://localhost:8080/"
        },
        "id": "SFMAVj6OI5bw",
        "outputId": "1fe37055-c0db-4142-e12c-714367da1fd4"
      },
      "execution_count": 51,
      "outputs": [
        {
          "output_type": "stream",
          "name": "stdout",
          "text": [
            "Fitting 2 folds for each of 100 candidates, totalling 200 fits\n"
          ]
        }
      ]
    },
    {
      "cell_type": "markdown",
      "source": [
        "После того, как были найдены оптимальные гиперпараметры, можно вывести различные метрики, такие как точность, полнота, f-мера и поддержка.\n",
        "\n"
      ],
      "metadata": {
        "id": "4udLeANDJPc5"
      }
    },
    {
      "cell_type": "code",
      "source": [
        "best_model = sklearn.naive_bayes.CategoricalNB(**best_params)\n",
        "best_model.fit(x_train, y_train)\n",
        "predicted = best_model.predict(x_test)\n",
        "print(best_params)\n",
        "print(metrics.classification_report(y_test, predicted,digits=5))"
      ],
      "metadata": {
        "colab": {
          "base_uri": "https://localhost:8080/"
        },
        "id": "YhQ7_Bx6I3ph",
        "outputId": "23a8b274-f864-4b4c-fb4c-7965fbe7efd6"
      },
      "execution_count": 54,
      "outputs": [
        {
          "output_type": "stream",
          "name": "stdout",
          "text": [
            "{'alpha': 0.012045035402587835, 'min_categories': 2}\n",
            "              precision    recall  f1-score   support\n",
            "\n",
            "           0    0.92506   0.89828   0.91148      8740\n",
            "           1    0.90245   0.92822   0.91515      8860\n",
            "\n",
            "    accuracy                        0.91335     17600\n",
            "   macro avg    0.91375   0.91325   0.91331     17600\n",
            "weighted avg    0.91368   0.91335   0.91333     17600\n",
            "\n"
          ]
        }
      ]
    }
  ],
  "metadata": {
    "colab": {
      "provenance": [],
      "authorship_tag": "ABX9TyMb79lFLdNy183gS+O8zLHv",
      "include_colab_link": true
    },
    "kernelspec": {
      "display_name": "Python 3",
      "name": "python3"
    },
    "language_info": {
      "name": "python"
    }
  },
  "nbformat": 4,
  "nbformat_minor": 0
}